{
  "nbformat": 4,
  "nbformat_minor": 0,
  "metadata": {
    "colab": {
      "provenance": []
    },
    "kernelspec": {
      "name": "python3",
      "display_name": "Python 3"
    },
    "language_info": {
      "name": "python"
    }
  },
  "cells": [
    {
      "cell_type": "markdown",
      "source": [
        "# Minería de datos - Actividad 2\n",
        "Manuel J. Corral Pazos"
      ],
      "metadata": {
        "id": "-udcQY5KXb80"
      }
    },
    {
      "cell_type": "markdown",
      "source": [
        "# Introducción\n",
        "Para realizar la actividad, escogemos un problema con la siguiente descripción:\n",
        "\n",
        "Una clínica psiquiátrica asigna valores para el grado de enfermedad mental de sus pacientes y para el grado de desconfianza que tienen los pacientes hospitalizados en los médicos que los tratan. Seis meses más tarde, se asigna un valor actualizado para el grado de la enfermedad tras haber realizado algún tipo de tratamiento con los respectivos médicos. La cuestión que vamos a tratar es ver el efecto que tiene el grado de desconfianza en los médicos que tratan a los pacientes en los psiquiátricos en el desarrollo de sus enfermedades.\n",
        "El objetivo de realizar este estudio es, en caso de detectar si mejora o empeora la evolución de los tratamientos dependiendo de la desconfianza, poder ofrecer un mejor tratamiento a los enfermos reasignándoles médicos en los que tengan más o menos confianza, dependiendo de los resultados del estudio.\n",
        "\n",
        "El conjunto de datos elegido está disponible en el siguiente enlace:\n",
        "\n",
        "people.sc.fsu.edu/~jburkardt/datasets/regression/x07.txt\n",
        "\n",
        "Para poder procesarlos, realizamos una conversión a formato csv, y se entrega como documento adjunto datosEnfermedades.csv, sobre el que realizaremos el estudio.\n"
      ],
      "metadata": {
        "id": "POEVukI8S8-5"
      }
    },
    {
      "cell_type": "markdown",
      "source": [
        "# Análisis de los datos\n",
        "\n",
        "En primer lugar, veamos la información general del conjunto de datos para poder decidir cómo enfocar el estudio."
      ],
      "metadata": {
        "id": "ZefeB7UbXscJ"
      }
    },
    {
      "cell_type": "code",
      "execution_count": 52,
      "metadata": {
        "id": "iz__FvXqOzaH"
      },
      "outputs": [],
      "source": [
        "import pandas as pd"
      ]
    },
    {
      "cell_type": "code",
      "source": [
        "#Cargamos el csv de los datos\n",
        "datos = pd.read_csv('datosEnfermedades.csv',\n",
        "                       delimiter=',',\n",
        "                       header=0)\n",
        "datos.info()"
      ],
      "metadata": {
        "colab": {
          "base_uri": "https://localhost:8080/"
        },
        "id": "IWvScy2cSrFk",
        "outputId": "550f2c30-a92a-4c41-ec29-2e20d92c85b1"
      },
      "execution_count": 53,
      "outputs": [
        {
          "output_type": "stream",
          "name": "stdout",
          "text": [
            "<class 'pandas.core.frame.DataFrame'>\n",
            "RangeIndex: 53 entries, 0 to 52\n",
            "Data columns (total 3 columns):\n",
            " #   Column       Non-Null Count  Dtype  \n",
            "---  ------       --------------  -----  \n",
            " 0   Retardation  53 non-null     float64\n",
            " 1   Distrust     53 non-null     float64\n",
            " 2   Illness      53 non-null     int64  \n",
            "dtypes: float64(2), int64(1)\n",
            "memory usage: 1.4 KB\n"
          ]
        }
      ]
    },
    {
      "cell_type": "markdown",
      "source": [
        "Como vemos en la salida de datos.info(), el DataFrame consta de:\n",
        "\n",
        "\n",
        "*   53 entradas de datos\n",
        "*   3 columnas correspondientes al grado de enfermedad mental, desconfianza en el médico y grado de enfermedad pasados 6 meses.\n",
        "*   Las dos primeras variables son de tipo float y la última de tipo int, por lo que estamos ante datos continuos.\n",
        "\n",
        "En este caso, todas las columnas del conjunto de datos son importantes y decidimos no eliminar ninguna de ellas, pues son las que utilizaremos para cumplir con el objetivo del estudio."
      ],
      "metadata": {
        "id": "9qJF6FWrTIJp"
      }
    },
    {
      "cell_type": "markdown",
      "source": [
        "Para cada una de las columnas, analizaremos la distribución de los datos para obtener algo de información útil acerca de ellos."
      ],
      "metadata": {
        "id": "Ql4nYiE_XFsM"
      }
    },
    {
      "cell_type": "code",
      "source": [
        "datos.describe()"
      ],
      "metadata": {
        "colab": {
          "base_uri": "https://localhost:8080/",
          "height": 300
        },
        "id": "-lOqYmrhSx_T",
        "outputId": "5aaa95c3-ffae-4ed1-9d72-659b7387be5b"
      },
      "execution_count": 54,
      "outputs": [
        {
          "output_type": "execute_result",
          "data": {
            "text/plain": [
              "       Retardation   Distrust    Illness\n",
              "count    53.000000  53.000000  53.000000\n",
              "mean      2.992830   6.624528  22.716981\n",
              "std       0.340708   0.773828  16.335871\n",
              "min       2.180000   5.100000   4.000000\n",
              "25%       2.740000   6.000000  11.000000\n",
              "50%       2.900000   6.700000  20.000000\n",
              "75%       3.260000   6.900000  27.000000\n",
              "max       3.780000   8.800000  72.000000"
            ],
            "text/html": [
              "\n",
              "  <div id=\"df-6f4dfe8a-7c62-4fef-9eff-e61186c44c3f\" class=\"colab-df-container\">\n",
              "    <div>\n",
              "<style scoped>\n",
              "    .dataframe tbody tr th:only-of-type {\n",
              "        vertical-align: middle;\n",
              "    }\n",
              "\n",
              "    .dataframe tbody tr th {\n",
              "        vertical-align: top;\n",
              "    }\n",
              "\n",
              "    .dataframe thead th {\n",
              "        text-align: right;\n",
              "    }\n",
              "</style>\n",
              "<table border=\"1\" class=\"dataframe\">\n",
              "  <thead>\n",
              "    <tr style=\"text-align: right;\">\n",
              "      <th></th>\n",
              "      <th>Retardation</th>\n",
              "      <th>Distrust</th>\n",
              "      <th>Illness</th>\n",
              "    </tr>\n",
              "  </thead>\n",
              "  <tbody>\n",
              "    <tr>\n",
              "      <th>count</th>\n",
              "      <td>53.000000</td>\n",
              "      <td>53.000000</td>\n",
              "      <td>53.000000</td>\n",
              "    </tr>\n",
              "    <tr>\n",
              "      <th>mean</th>\n",
              "      <td>2.992830</td>\n",
              "      <td>6.624528</td>\n",
              "      <td>22.716981</td>\n",
              "    </tr>\n",
              "    <tr>\n",
              "      <th>std</th>\n",
              "      <td>0.340708</td>\n",
              "      <td>0.773828</td>\n",
              "      <td>16.335871</td>\n",
              "    </tr>\n",
              "    <tr>\n",
              "      <th>min</th>\n",
              "      <td>2.180000</td>\n",
              "      <td>5.100000</td>\n",
              "      <td>4.000000</td>\n",
              "    </tr>\n",
              "    <tr>\n",
              "      <th>25%</th>\n",
              "      <td>2.740000</td>\n",
              "      <td>6.000000</td>\n",
              "      <td>11.000000</td>\n",
              "    </tr>\n",
              "    <tr>\n",
              "      <th>50%</th>\n",
              "      <td>2.900000</td>\n",
              "      <td>6.700000</td>\n",
              "      <td>20.000000</td>\n",
              "    </tr>\n",
              "    <tr>\n",
              "      <th>75%</th>\n",
              "      <td>3.260000</td>\n",
              "      <td>6.900000</td>\n",
              "      <td>27.000000</td>\n",
              "    </tr>\n",
              "    <tr>\n",
              "      <th>max</th>\n",
              "      <td>3.780000</td>\n",
              "      <td>8.800000</td>\n",
              "      <td>72.000000</td>\n",
              "    </tr>\n",
              "  </tbody>\n",
              "</table>\n",
              "</div>\n",
              "    <div class=\"colab-df-buttons\">\n",
              "\n",
              "  <div class=\"colab-df-container\">\n",
              "    <button class=\"colab-df-convert\" onclick=\"convertToInteractive('df-6f4dfe8a-7c62-4fef-9eff-e61186c44c3f')\"\n",
              "            title=\"Convert this dataframe to an interactive table.\"\n",
              "            style=\"display:none;\">\n",
              "\n",
              "  <svg xmlns=\"http://www.w3.org/2000/svg\" height=\"24px\" viewBox=\"0 -960 960 960\">\n",
              "    <path d=\"M120-120v-720h720v720H120Zm60-500h600v-160H180v160Zm220 220h160v-160H400v160Zm0 220h160v-160H400v160ZM180-400h160v-160H180v160Zm440 0h160v-160H620v160ZM180-180h160v-160H180v160Zm440 0h160v-160H620v160Z\"/>\n",
              "  </svg>\n",
              "    </button>\n",
              "\n",
              "  <style>\n",
              "    .colab-df-container {\n",
              "      display:flex;\n",
              "      gap: 12px;\n",
              "    }\n",
              "\n",
              "    .colab-df-convert {\n",
              "      background-color: #E8F0FE;\n",
              "      border: none;\n",
              "      border-radius: 50%;\n",
              "      cursor: pointer;\n",
              "      display: none;\n",
              "      fill: #1967D2;\n",
              "      height: 32px;\n",
              "      padding: 0 0 0 0;\n",
              "      width: 32px;\n",
              "    }\n",
              "\n",
              "    .colab-df-convert:hover {\n",
              "      background-color: #E2EBFA;\n",
              "      box-shadow: 0px 1px 2px rgba(60, 64, 67, 0.3), 0px 1px 3px 1px rgba(60, 64, 67, 0.15);\n",
              "      fill: #174EA6;\n",
              "    }\n",
              "\n",
              "    .colab-df-buttons div {\n",
              "      margin-bottom: 4px;\n",
              "    }\n",
              "\n",
              "    [theme=dark] .colab-df-convert {\n",
              "      background-color: #3B4455;\n",
              "      fill: #D2E3FC;\n",
              "    }\n",
              "\n",
              "    [theme=dark] .colab-df-convert:hover {\n",
              "      background-color: #434B5C;\n",
              "      box-shadow: 0px 1px 3px 1px rgba(0, 0, 0, 0.15);\n",
              "      filter: drop-shadow(0px 1px 2px rgba(0, 0, 0, 0.3));\n",
              "      fill: #FFFFFF;\n",
              "    }\n",
              "  </style>\n",
              "\n",
              "    <script>\n",
              "      const buttonEl =\n",
              "        document.querySelector('#df-6f4dfe8a-7c62-4fef-9eff-e61186c44c3f button.colab-df-convert');\n",
              "      buttonEl.style.display =\n",
              "        google.colab.kernel.accessAllowed ? 'block' : 'none';\n",
              "\n",
              "      async function convertToInteractive(key) {\n",
              "        const element = document.querySelector('#df-6f4dfe8a-7c62-4fef-9eff-e61186c44c3f');\n",
              "        const dataTable =\n",
              "          await google.colab.kernel.invokeFunction('convertToInteractive',\n",
              "                                                    [key], {});\n",
              "        if (!dataTable) return;\n",
              "\n",
              "        const docLinkHtml = 'Like what you see? Visit the ' +\n",
              "          '<a target=\"_blank\" href=https://colab.research.google.com/notebooks/data_table.ipynb>data table notebook</a>'\n",
              "          + ' to learn more about interactive tables.';\n",
              "        element.innerHTML = '';\n",
              "        dataTable['output_type'] = 'display_data';\n",
              "        await google.colab.output.renderOutput(dataTable, element);\n",
              "        const docLink = document.createElement('div');\n",
              "        docLink.innerHTML = docLinkHtml;\n",
              "        element.appendChild(docLink);\n",
              "      }\n",
              "    </script>\n",
              "  </div>\n",
              "\n",
              "\n",
              "<div id=\"df-89c51b2e-5a40-4f9e-92b9-217a01ca483f\">\n",
              "  <button class=\"colab-df-quickchart\" onclick=\"quickchart('df-89c51b2e-5a40-4f9e-92b9-217a01ca483f')\"\n",
              "            title=\"Suggest charts\"\n",
              "            style=\"display:none;\">\n",
              "\n",
              "<svg xmlns=\"http://www.w3.org/2000/svg\" height=\"24px\"viewBox=\"0 0 24 24\"\n",
              "     width=\"24px\">\n",
              "    <g>\n",
              "        <path d=\"M19 3H5c-1.1 0-2 .9-2 2v14c0 1.1.9 2 2 2h14c1.1 0 2-.9 2-2V5c0-1.1-.9-2-2-2zM9 17H7v-7h2v7zm4 0h-2V7h2v10zm4 0h-2v-4h2v4z\"/>\n",
              "    </g>\n",
              "</svg>\n",
              "  </button>\n",
              "\n",
              "<style>\n",
              "  .colab-df-quickchart {\n",
              "      --bg-color: #E8F0FE;\n",
              "      --fill-color: #1967D2;\n",
              "      --hover-bg-color: #E2EBFA;\n",
              "      --hover-fill-color: #174EA6;\n",
              "      --disabled-fill-color: #AAA;\n",
              "      --disabled-bg-color: #DDD;\n",
              "  }\n",
              "\n",
              "  [theme=dark] .colab-df-quickchart {\n",
              "      --bg-color: #3B4455;\n",
              "      --fill-color: #D2E3FC;\n",
              "      --hover-bg-color: #434B5C;\n",
              "      --hover-fill-color: #FFFFFF;\n",
              "      --disabled-bg-color: #3B4455;\n",
              "      --disabled-fill-color: #666;\n",
              "  }\n",
              "\n",
              "  .colab-df-quickchart {\n",
              "    background-color: var(--bg-color);\n",
              "    border: none;\n",
              "    border-radius: 50%;\n",
              "    cursor: pointer;\n",
              "    display: none;\n",
              "    fill: var(--fill-color);\n",
              "    height: 32px;\n",
              "    padding: 0;\n",
              "    width: 32px;\n",
              "  }\n",
              "\n",
              "  .colab-df-quickchart:hover {\n",
              "    background-color: var(--hover-bg-color);\n",
              "    box-shadow: 0 1px 2px rgba(60, 64, 67, 0.3), 0 1px 3px 1px rgba(60, 64, 67, 0.15);\n",
              "    fill: var(--button-hover-fill-color);\n",
              "  }\n",
              "\n",
              "  .colab-df-quickchart-complete:disabled,\n",
              "  .colab-df-quickchart-complete:disabled:hover {\n",
              "    background-color: var(--disabled-bg-color);\n",
              "    fill: var(--disabled-fill-color);\n",
              "    box-shadow: none;\n",
              "  }\n",
              "\n",
              "  .colab-df-spinner {\n",
              "    border: 2px solid var(--fill-color);\n",
              "    border-color: transparent;\n",
              "    border-bottom-color: var(--fill-color);\n",
              "    animation:\n",
              "      spin 1s steps(1) infinite;\n",
              "  }\n",
              "\n",
              "  @keyframes spin {\n",
              "    0% {\n",
              "      border-color: transparent;\n",
              "      border-bottom-color: var(--fill-color);\n",
              "      border-left-color: var(--fill-color);\n",
              "    }\n",
              "    20% {\n",
              "      border-color: transparent;\n",
              "      border-left-color: var(--fill-color);\n",
              "      border-top-color: var(--fill-color);\n",
              "    }\n",
              "    30% {\n",
              "      border-color: transparent;\n",
              "      border-left-color: var(--fill-color);\n",
              "      border-top-color: var(--fill-color);\n",
              "      border-right-color: var(--fill-color);\n",
              "    }\n",
              "    40% {\n",
              "      border-color: transparent;\n",
              "      border-right-color: var(--fill-color);\n",
              "      border-top-color: var(--fill-color);\n",
              "    }\n",
              "    60% {\n",
              "      border-color: transparent;\n",
              "      border-right-color: var(--fill-color);\n",
              "    }\n",
              "    80% {\n",
              "      border-color: transparent;\n",
              "      border-right-color: var(--fill-color);\n",
              "      border-bottom-color: var(--fill-color);\n",
              "    }\n",
              "    90% {\n",
              "      border-color: transparent;\n",
              "      border-bottom-color: var(--fill-color);\n",
              "    }\n",
              "  }\n",
              "</style>\n",
              "\n",
              "  <script>\n",
              "    async function quickchart(key) {\n",
              "      const quickchartButtonEl =\n",
              "        document.querySelector('#' + key + ' button');\n",
              "      quickchartButtonEl.disabled = true;  // To prevent multiple clicks.\n",
              "      quickchartButtonEl.classList.add('colab-df-spinner');\n",
              "      try {\n",
              "        const charts = await google.colab.kernel.invokeFunction(\n",
              "            'suggestCharts', [key], {});\n",
              "      } catch (error) {\n",
              "        console.error('Error during call to suggestCharts:', error);\n",
              "      }\n",
              "      quickchartButtonEl.classList.remove('colab-df-spinner');\n",
              "      quickchartButtonEl.classList.add('colab-df-quickchart-complete');\n",
              "    }\n",
              "    (() => {\n",
              "      let quickchartButtonEl =\n",
              "        document.querySelector('#df-89c51b2e-5a40-4f9e-92b9-217a01ca483f button');\n",
              "      quickchartButtonEl.style.display =\n",
              "        google.colab.kernel.accessAllowed ? 'block' : 'none';\n",
              "    })();\n",
              "  </script>\n",
              "</div>\n",
              "    </div>\n",
              "  </div>\n"
            ]
          },
          "metadata": {},
          "execution_count": 54
        }
      ]
    },
    {
      "cell_type": "markdown",
      "source": [
        "Como vemos en la salida, la desviación típica de los valores Retardation y Distrust no es grande en comparación con la media, siendo la desviación estándar un 11% con respecto al valor medio. En cambio, en los valores de Illness, apreciamos un valor de desviación estándar que representa el 70,5% de la media, por lo que esperaremos una amplia dispersión en estos datos.\n",
        "\n",
        "En efecto, esto podemos verlo en la diferencia entre mínimos y máximos de las tres variables.\n",
        "\n",
        "Algo que llama la atención es la diferencia entre el percentil 75% y el valor máximo de la columna de Illness. Para estudiar esto, elaboramos un boxplot para ver la dispersión de las variables:"
      ],
      "metadata": {
        "id": "TbIMb_kVTzoh"
      }
    },
    {
      "cell_type": "code",
      "source": [
        "%matplotlib inline\n",
        "\n",
        "import matplotlib.pyplot as plt #Librería para dibujar\n",
        "import numpy as np  # Librería para operaciones matemáticas"
      ],
      "metadata": {
        "id": "v2RhTD7gUQOS"
      },
      "execution_count": 55,
      "outputs": []
    },
    {
      "cell_type": "code",
      "source": [
        "plt.rcParams['figure.figsize'] = [4, 3]\n",
        "box = plt.boxplot(datos.Retardation)"
      ],
      "metadata": {
        "colab": {
          "base_uri": "https://localhost:8080/",
          "height": 291
        },
        "id": "OD-HRU_8TzR1",
        "outputId": "4763a2e8-0d27-443f-e52e-0b0c8d06e12b"
      },
      "execution_count": 56,
      "outputs": [
        {
          "output_type": "display_data",
          "data": {
            "text/plain": [
              "<Figure size 400x300 with 1 Axes>"
            ],
            "image/png": "[encoded data removed]"
          },
          "metadata": {}
        }
      ]
    },
    {
      "cell_type": "code",
      "source": [
        "box = plt.boxplot(datos.Distrust)"
      ],
      "metadata": {
        "colab": {
          "base_uri": "https://localhost:8080/",
          "height": 291
        },
        "id": "64rQsaslUpD0",
        "outputId": "e42c2663-b40d-4e6a-c37b-4e546148e4a0"
      },
      "execution_count": 57,
      "outputs": [
        {
          "output_type": "display_data",
          "data": {
            "text/plain": [
              "<Figure size 400x300 with 1 Axes>"
            ],
            "image/png": "[encoded data removed]"
          },
          "metadata": {}
        }
      ]
    },
    {
      "cell_type": "code",
      "source": [
        "box = plt.boxplot(datos.Illness)"
      ],
      "metadata": {
        "colab": {
          "base_uri": "https://localhost:8080/",
          "height": 291
        },
        "id": "Of25b-HHUrKI",
        "outputId": "3693fcd4-cf5f-4af8-9056-61c2c464b15f"
      },
      "execution_count": 58,
      "outputs": [
        {
          "output_type": "display_data",
          "data": {
            "text/plain": [
              "<Figure size 400x300 with 1 Axes>"
            ],
            "image/png": "[encoded data removed]"
          },
          "metadata": {}
        }
      ]
    },
    {
      "cell_type": "markdown",
      "source": [
        "Como vemos, en las dos últimas variables se presentan algunos outliers en su distribución. Estudiémoslos:"
      ],
      "metadata": {
        "id": "uRWWYgYuVXFQ"
      }
    },
    {
      "cell_type": "code",
      "source": [
        "box = plt.boxplot(datos, labels=datos.columns)"
      ],
      "metadata": {
        "colab": {
          "base_uri": "https://localhost:8080/",
          "height": 291
        },
        "id": "L8fx8c5mVg2M",
        "outputId": "c0425f59-32dc-4a3c-d01b-af14a269d3f8"
      },
      "execution_count": 59,
      "outputs": [
        {
          "output_type": "display_data",
          "data": {
            "text/plain": [
              "<Figure size 400x300 with 1 Axes>"
            ],
            "image/png": "[encoded data removed]"
          },
          "metadata": {}
        }
      ]
    },
    {
      "cell_type": "code",
      "source": [
        "out_retardation = box[\"fliers\"][0].get_data()[1]\n",
        "out_distrust = box[\"fliers\"][1].get_data()[1]\n",
        "out_illness = box[\"fliers\"][2].get_data()[1]\n",
        "\n",
        "print(\"Outliers en la variable 'Retardation': {}\".format(out_retardation))\n",
        "print(\"Outliers en la variable 'Distrust': {}\".format(out_distrust))\n",
        "print(\"Outliers en la variable 'Illness': {}\".format(out_illness))"
      ],
      "metadata": {
        "colab": {
          "base_uri": "https://localhost:8080/"
        },
        "id": "_9NV48okVjZP",
        "outputId": "070e13aa-1fc6-441a-859b-29cef3254bee"
      },
      "execution_count": 60,
      "outputs": [
        {
          "output_type": "stream",
          "name": "stdout",
          "text": [
            "Outliers en la variable 'Retardation': []\n",
            "Outliers en la variable 'Distrust': [8.4 8.4 8.3 8.8]\n",
            "Outliers en la variable 'Illness': [72. 60. 60. 66.]\n"
          ]
        }
      ]
    },
    {
      "cell_type": "markdown",
      "source": [
        "A la vista de esta salida, veremos si alguno de los outliers de Distrust e Illess es outlier en las dos variables simultáneamente. Como el volumen de datos en este caso no es muy grande, lo comprobamos a mano. De tener un conjunto de datos mayor, tendríamos que escribir alguna función en código para poder verlo.\n",
        "En este caso, ninguno de los valores es outlier en ambas variables, así que no eliminaremos ninguno con el fin de mejorar la calidad del modelo.\n",
        "\n",
        "Por todos estos motivos, parece que el conjunto de datos elegido ya ha recibido algún tipo de preprocesado: todas las columnas son relevantes para el estudio, no hay outliers y la dispersión de los datos es aceptable."
      ],
      "metadata": {
        "id": "ZVcGoCfGVqe2"
      }
    },
    {
      "cell_type": "markdown",
      "source": [
        "En la propia fuente de dónde se eligió conjunto de datos se nos indica que es apropiado para crear un modelo de regresión lineal. Sin embargo, vamos a ver si los datos son adecuados para utilizar un modelo de esta forma. Por esto, vamos a tratar de estudiar las relaciones lineales existentes entre la variable dependiente y las independientes una a una.\n",
        "Para esto, utilizamos un diagrama de tipo scatter."
      ],
      "metadata": {
        "id": "-WXG_YIeWAEf"
      }
    },
    {
      "cell_type": "code",
      "source": [
        "datos.plot(kind='scatter', x='Retardation', y='Illness')\n"
      ],
      "metadata": {
        "colab": {
          "base_uri": "https://localhost:8080/",
          "height": 328
        },
        "id": "bToxalb8WSBy",
        "outputId": "d255a54d-04cf-4d17-fe42-bde4b86a46e9"
      },
      "execution_count": 61,
      "outputs": [
        {
          "output_type": "execute_result",
          "data": {
            "text/plain": [
              "<Axes: xlabel='Retardation', ylabel='Illness'>"
            ]
          },
          "metadata": {},
          "execution_count": 61
        },
        {
          "output_type": "display_data",
          "data": {
            "text/plain": [
              "<Figure size 400x300 with 1 Axes>"
            ],
            "image/png": "[encoded data removed]"
          },
          "metadata": {}
        }
      ]
    },
    {
      "cell_type": "code",
      "source": [
        "datos.plot(kind='scatter', x='Distrust', y='Illness')\n"
      ],
      "metadata": {
        "colab": {
          "base_uri": "https://localhost:8080/",
          "height": 328
        },
        "id": "lAUyW2lWWVv5",
        "outputId": "42d81fd8-e6a5-44e0-a5ed-e9bb1f6a1ba9"
      },
      "execution_count": 62,
      "outputs": [
        {
          "output_type": "execute_result",
          "data": {
            "text/plain": [
              "<Axes: xlabel='Distrust', ylabel='Illness'>"
            ]
          },
          "metadata": {},
          "execution_count": 62
        },
        {
          "output_type": "display_data",
          "data": {
            "text/plain": [
              "<Figure size 400x300 with 1 Axes>"
            ],
            "image/png": "[encoded data removed]"
          },
          "metadata": {}
        }
      ]
    },
    {
      "cell_type": "markdown",
      "source": [
        "Como vemos, la linealidad entre las variables independientes y la dependiente no parece que vaya a ser óptima para realizar un modelo con nuestras condiciones. No obstante y a la vista de los diagramas, podemos esperar que el coeficiente que multiplicará al a primera variable sea positivo, puesto que al aumentar Retardation aumenta Illness; mientras que en la segunda variable deberá ser negativo, pues al aumentar Distrust, disminuye Illness.\n",
        "Por lo tanto, se propone en una primera instancia construir un modelo de regresión lineal y posteriormente estudiar si este resulta suficientemente efectivo para el estudio. Es posible que en un futuro sea necesario obtener un cojunto de datos más grande.\n"
      ],
      "metadata": {
        "id": "4ummu59YWW2b"
      }
    },
    {
      "cell_type": "markdown",
      "source": [
        "# Construcción del modelo\n",
        "\n",
        "Para la construcción, buscamos un modelo de regresión lineal para ver cómo se comportan los datos. Para ello, utilizaremos la librería LinearRegresion de scikit-learn. También dividimos el conjunto de datos en datos de test y datos de entrenamiento. Utilizaremos train_test_split, también de sklearn para la división. Establecemos el valor del seed para que, en caso de querer replicar el estudio, se obtengan los mismos resultados.\n"
      ],
      "metadata": {
        "id": "x9z6BBxeFzoS"
      }
    },
    {
      "cell_type": "code",
      "source": [
        "from sklearn.linear_model import LinearRegression\n",
        "from sklearn.metrics import classification_report\n",
        "\n",
        "from sklearn.model_selection import train_test_split\n",
        "SEED_VALUE = 123\n"
      ],
      "metadata": {
        "id": "p8YOn0mFGoZi"
      },
      "execution_count": 63,
      "outputs": []
    },
    {
      "cell_type": "code",
      "source": [
        "datos_train, datos_test = train_test_split(datos, test_size=0.3, random_state=SEED_VALUE)\n",
        "\n",
        "print('Tamaño train: {}'.format(datos_train.shape[0]))\n",
        "print('Tamaño test: {}'.format(datos_test.shape[0]))\n",
        "\n",
        "X_train = datos_train[['Retardation', 'Distrust']]\n",
        "Y_train = datos_train['Illness']\n",
        "\n",
        "modelo = LinearRegression()\n",
        "modelo.fit(X_train,Y_train)\n",
        "\n",
        "coef = pd.DataFrame([modelo.intercept_, *modelo.coef_], ['(Intercept)', *X_train.columns], columns=['Coefficients'])\n",
        "coef"
      ],
      "metadata": {
        "colab": {
          "base_uri": "https://localhost:8080/",
          "height": 178
        },
        "id": "jhZPezNvG-iA",
        "outputId": "90341483-91c0-4fa1-f103-4486cdfdc19b"
      },
      "execution_count": 64,
      "outputs": [
        {
          "output_type": "stream",
          "name": "stdout",
          "text": [
            "Tamaño train: 37\n",
            "Tamaño test: 16\n"
          ]
        },
        {
          "output_type": "execute_result",
          "data": {
            "text/plain": [
              "             Coefficients\n",
              "(Intercept)     -6.492796\n",
              "Retardation     19.244693\n",
              "Distrust        -4.497420"
            ],
            "text/html": [
              "\n",
              "  <div id=\"df-ca1bbd42-853a-4a4f-a24d-7b56d6f094b2\" class=\"colab-df-container\">\n",
              "    <div>\n",
              "<style scoped>\n",
              "    .dataframe tbody tr th:only-of-type {\n",
              "        vertical-align: middle;\n",
              "    }\n",
              "\n",
              "    .dataframe tbody tr th {\n",
              "        vertical-align: top;\n",
              "    }\n",
              "\n",
              "    .dataframe thead th {\n",
              "        text-align: right;\n",
              "    }\n",
              "</style>\n",
              "<table border=\"1\" class=\"dataframe\">\n",
              "  <thead>\n",
              "    <tr style=\"text-align: right;\">\n",
              "      <th></th>\n",
              "      <th>Coefficients</th>\n",
              "    </tr>\n",
              "  </thead>\n",
              "  <tbody>\n",
              "    <tr>\n",
              "      <th>(Intercept)</th>\n",
              "      <td>-6.492796</td>\n",
              "    </tr>\n",
              "    <tr>\n",
              "      <th>Retardation</th>\n",
              "      <td>19.244693</td>\n",
              "    </tr>\n",
              "    <tr>\n",
              "      <th>Distrust</th>\n",
              "      <td>-4.497420</td>\n",
              "    </tr>\n",
              "  </tbody>\n",
              "</table>\n",
              "</div>\n",
              "    <div class=\"colab-df-buttons\">\n",
              "\n",
              "  <div class=\"colab-df-container\">\n",
              "    <button class=\"colab-df-convert\" onclick=\"convertToInteractive('df-ca1bbd42-853a-4a4f-a24d-7b56d6f094b2')\"\n",
              "            title=\"Convert this dataframe to an interactive table.\"\n",
              "            style=\"display:none;\">\n",
              "\n",
              "  <svg xmlns=\"http://www.w3.org/2000/svg\" height=\"24px\" viewBox=\"0 -960 960 960\">\n",
              "    <path d=\"M120-120v-720h720v720H120Zm60-500h600v-160H180v160Zm220 220h160v-160H400v160Zm0 220h160v-160H400v160ZM180-400h160v-160H180v160Zm440 0h160v-160H620v160ZM180-180h160v-160H180v160Zm440 0h160v-160H620v160Z\"/>\n",
              "  </svg>\n",
              "    </button>\n",
              "\n",
              "  <style>\n",
              "    .colab-df-container {\n",
              "      display:flex;\n",
              "      gap: 12px;\n",
              "    }\n",
              "\n",
              "    .colab-df-convert {\n",
              "      background-color: #E8F0FE;\n",
              "      border: none;\n",
              "      border-radius: 50%;\n",
              "      cursor: pointer;\n",
              "      display: none;\n",
              "      fill: #1967D2;\n",
              "      height: 32px;\n",
              "      padding: 0 0 0 0;\n",
              "      width: 32px;\n",
              "    }\n",
              "\n",
              "    .colab-df-convert:hover {\n",
              "      background-color: #E2EBFA;\n",
              "      box-shadow: 0px 1px 2px rgba(60, 64, 67, 0.3), 0px 1px 3px 1px rgba(60, 64, 67, 0.15);\n",
              "      fill: #174EA6;\n",
              "    }\n",
              "\n",
              "    .colab-df-buttons div {\n",
              "      margin-bottom: 4px;\n",
              "    }\n",
              "\n",
              "    [theme=dark] .colab-df-convert {\n",
              "      background-color: #3B4455;\n",
              "      fill: #D2E3FC;\n",
              "    }\n",
              "\n",
              "    [theme=dark] .colab-df-convert:hover {\n",
              "      background-color: #434B5C;\n",
              "      box-shadow: 0px 1px 3px 1px rgba(0, 0, 0, 0.15);\n",
              "      filter: drop-shadow(0px 1px 2px rgba(0, 0, 0, 0.3));\n",
              "      fill: #FFFFFF;\n",
              "    }\n",
              "  </style>\n",
              "\n",
              "    <script>\n",
              "      const buttonEl =\n",
              "        document.querySelector('#df-ca1bbd42-853a-4a4f-a24d-7b56d6f094b2 button.colab-df-convert');\n",
              "      buttonEl.style.display =\n",
              "        google.colab.kernel.accessAllowed ? 'block' : 'none';\n",
              "\n",
              "      async function convertToInteractive(key) {\n",
              "        const element = document.querySelector('#df-ca1bbd42-853a-4a4f-a24d-7b56d6f094b2');\n",
              "        const dataTable =\n",
              "          await google.colab.kernel.invokeFunction('convertToInteractive',\n",
              "                                                    [key], {});\n",
              "        if (!dataTable) return;\n",
              "\n",
              "        const docLinkHtml = 'Like what you see? Visit the ' +\n",
              "          '<a target=\"_blank\" href=https://colab.research.google.com/notebooks/data_table.ipynb>data table notebook</a>'\n",
              "          + ' to learn more about interactive tables.';\n",
              "        element.innerHTML = '';\n",
              "        dataTable['output_type'] = 'display_data';\n",
              "        await google.colab.output.renderOutput(dataTable, element);\n",
              "        const docLink = document.createElement('div');\n",
              "        docLink.innerHTML = docLinkHtml;\n",
              "        element.appendChild(docLink);\n",
              "      }\n",
              "    </script>\n",
              "  </div>\n",
              "\n",
              "\n",
              "<div id=\"df-20a07dac-d7dc-43ac-be76-bb2925f930e3\">\n",
              "  <button class=\"colab-df-quickchart\" onclick=\"quickchart('df-20a07dac-d7dc-43ac-be76-bb2925f930e3')\"\n",
              "            title=\"Suggest charts\"\n",
              "            style=\"display:none;\">\n",
              "\n",
              "<svg xmlns=\"http://www.w3.org/2000/svg\" height=\"24px\"viewBox=\"0 0 24 24\"\n",
              "     width=\"24px\">\n",
              "    <g>\n",
              "        <path d=\"M19 3H5c-1.1 0-2 .9-2 2v14c0 1.1.9 2 2 2h14c1.1 0 2-.9 2-2V5c0-1.1-.9-2-2-2zM9 17H7v-7h2v7zm4 0h-2V7h2v10zm4 0h-2v-4h2v4z\"/>\n",
              "    </g>\n",
              "</svg>\n",
              "  </button>\n",
              "\n",
              "<style>\n",
              "  .colab-df-quickchart {\n",
              "      --bg-color: #E8F0FE;\n",
              "      --fill-color: #1967D2;\n",
              "      --hover-bg-color: #E2EBFA;\n",
              "      --hover-fill-color: #174EA6;\n",
              "      --disabled-fill-color: #AAA;\n",
              "      --disabled-bg-color: #DDD;\n",
              "  }\n",
              "\n",
              "  [theme=dark] .colab-df-quickchart {\n",
              "      --bg-color: #3B4455;\n",
              "      --fill-color: #D2E3FC;\n",
              "      --hover-bg-color: #434B5C;\n",
              "      --hover-fill-color: #FFFFFF;\n",
              "      --disabled-bg-color: #3B4455;\n",
              "      --disabled-fill-color: #666;\n",
              "  }\n",
              "\n",
              "  .colab-df-quickchart {\n",
              "    background-color: var(--bg-color);\n",
              "    border: none;\n",
              "    border-radius: 50%;\n",
              "    cursor: pointer;\n",
              "    display: none;\n",
              "    fill: var(--fill-color);\n",
              "    height: 32px;\n",
              "    padding: 0;\n",
              "    width: 32px;\n",
              "  }\n",
              "\n",
              "  .colab-df-quickchart:hover {\n",
              "    background-color: var(--hover-bg-color);\n",
              "    box-shadow: 0 1px 2px rgba(60, 64, 67, 0.3), 0 1px 3px 1px rgba(60, 64, 67, 0.15);\n",
              "    fill: var(--button-hover-fill-color);\n",
              "  }\n",
              "\n",
              "  .colab-df-quickchart-complete:disabled,\n",
              "  .colab-df-quickchart-complete:disabled:hover {\n",
              "    background-color: var(--disabled-bg-color);\n",
              "    fill: var(--disabled-fill-color);\n",
              "    box-shadow: none;\n",
              "  }\n",
              "\n",
              "  .colab-df-spinner {\n",
              "    border: 2px solid var(--fill-color);\n",
              "    border-color: transparent;\n",
              "    border-bottom-color: var(--fill-color);\n",
              "    animation:\n",
              "      spin 1s steps(1) infinite;\n",
              "  }\n",
              "\n",
              "  @keyframes spin {\n",
              "    0% {\n",
              "      border-color: transparent;\n",
              "      border-bottom-color: var(--fill-color);\n",
              "      border-left-color: var(--fill-color);\n",
              "    }\n",
              "    20% {\n",
              "      border-color: transparent;\n",
              "      border-left-color: var(--fill-color);\n",
              "      border-top-color: var(--fill-color);\n",
              "    }\n",
              "    30% {\n",
              "      border-color: transparent;\n",
              "      border-left-color: var(--fill-color);\n",
              "      border-top-color: var(--fill-color);\n",
              "      border-right-color: var(--fill-color);\n",
              "    }\n",
              "    40% {\n",
              "      border-color: transparent;\n",
              "      border-right-color: var(--fill-color);\n",
              "      border-top-color: var(--fill-color);\n",
              "    }\n",
              "    60% {\n",
              "      border-color: transparent;\n",
              "      border-right-color: var(--fill-color);\n",
              "    }\n",
              "    80% {\n",
              "      border-color: transparent;\n",
              "      border-right-color: var(--fill-color);\n",
              "      border-bottom-color: var(--fill-color);\n",
              "    }\n",
              "    90% {\n",
              "      border-color: transparent;\n",
              "      border-bottom-color: var(--fill-color);\n",
              "    }\n",
              "  }\n",
              "</style>\n",
              "\n",
              "  <script>\n",
              "    async function quickchart(key) {\n",
              "      const quickchartButtonEl =\n",
              "        document.querySelector('#' + key + ' button');\n",
              "      quickchartButtonEl.disabled = true;  // To prevent multiple clicks.\n",
              "      quickchartButtonEl.classList.add('colab-df-spinner');\n",
              "      try {\n",
              "        const charts = await google.colab.kernel.invokeFunction(\n",
              "            'suggestCharts', [key], {});\n",
              "      } catch (error) {\n",
              "        console.error('Error during call to suggestCharts:', error);\n",
              "      }\n",
              "      quickchartButtonEl.classList.remove('colab-df-spinner');\n",
              "      quickchartButtonEl.classList.add('colab-df-quickchart-complete');\n",
              "    }\n",
              "    (() => {\n",
              "      let quickchartButtonEl =\n",
              "        document.querySelector('#df-20a07dac-d7dc-43ac-be76-bb2925f930e3 button');\n",
              "      quickchartButtonEl.style.display =\n",
              "        google.colab.kernel.accessAllowed ? 'block' : 'none';\n",
              "    })();\n",
              "  </script>\n",
              "</div>\n",
              "    </div>\n",
              "  </div>\n"
            ]
          },
          "metadata": {},
          "execution_count": 64
        }
      ]
    },
    {
      "cell_type": "markdown",
      "source": [
        "En efecto, tal y como esperábamos el parámetro correspondiente a la primera variable es positivo y el segundo es negativo. Por tanto, la fórmula de regresión lineal de nuestro modelo será:\n",
        "\n",
        "Illness = (-6.492796) + (19.244693) Retardation + (-4.497420) Distrust"
      ],
      "metadata": {
        "id": "ed2YqelcGn3z"
      }
    },
    {
      "cell_type": "markdown",
      "source": [
        "Ahora pasamos a realizar la predicción del modelo y calculamos la correlación entre los datos que hemos predicho y los datos originales de test."
      ],
      "metadata": {
        "id": "i9N78r5JQq39"
      }
    },
    {
      "cell_type": "code",
      "source": [
        "X_test = datos_test[['Retardation', 'Distrust']]\n",
        "Y_test = datos_test['Illness']\n",
        "\n",
        "\n",
        "np.random.seed(SEED_VALUE)\n",
        "pred = modelo.predict(X_test)\n",
        "print(pred)\n",
        "print()\n",
        "print(\"Correlacion: \")\n",
        "Y_test.corr(pd.Series(pred, Y_test.index))"
      ],
      "metadata": {
        "colab": {
          "base_uri": "https://localhost:8080/"
        },
        "id": "uNoyM2cxI4Rt",
        "outputId": "22f72cbc-ecf0-476a-abd5-e290121590c2"
      },
      "execution_count": 65,
      "outputs": [
        {
          "output_type": "stream",
          "name": "stdout",
          "text": [
            "[19.18410318 27.45722399 21.3637702  28.92356194 18.93310022 24.56842262\n",
            " 20.85756956 16.16980034 21.50185581 14.30598439 19.95808563 32.79137681\n",
            " 27.77936711  8.45933886 18.66951312 22.50796503]\n",
            "\n",
            "Correlacion: \n"
          ]
        },
        {
          "output_type": "execute_result",
          "data": {
            "text/plain": [
              "0.4761824650858669"
            ]
          },
          "metadata": {},
          "execution_count": 65
        }
      ]
    },
    {
      "cell_type": "markdown",
      "source": [
        "También realizamos un análisis estadístico utilizando una api diseñada para este tipo de modelos. En nuestro caso elegimos utilizar mínimos cuadrados ordinario (OLS)."
      ],
      "metadata": {
        "id": "l-6-fR7YI39P"
      }
    },
    {
      "cell_type": "code",
      "source": [
        "import statsmodels.api as sm\n",
        "\n",
        "X = datos[['Retardation', 'Distrust']]\n",
        "Y = datos['Illness']\n",
        "\n",
        "X = sm.add_constant(X)\n",
        "\n",
        "model = sm.OLS(Y, X).fit()\n",
        "predictions = model.predict(X)\n",
        "\n",
        "print_model = model.summary()\n",
        "print(print_model)"
      ],
      "metadata": {
        "colab": {
          "base_uri": "https://localhost:8080/"
        },
        "id": "Nqc7eiqRKbYh",
        "outputId": "390b44e0-e452-4942-dc3e-7b4b818d23c9"
      },
      "execution_count": 66,
      "outputs": [
        {
          "output_type": "stream",
          "name": "stdout",
          "text": [
            "                            OLS Regression Results                            \n",
            "==============================================================================\n",
            "Dep. Variable:                Illness   R-squared:                       0.199\n",
            "Model:                            OLS   Adj. R-squared:                  0.167\n",
            "Method:                 Least Squares   F-statistic:                     6.206\n",
            "Date:                Sat, 09 Dec 2023   Prob (F-statistic):            0.00391\n",
            "Time:                        11:02:14   Log-Likelihood:                -216.87\n",
            "No. Observations:                  53   AIC:                             439.7\n",
            "Df Residuals:                      50   BIC:                             445.7\n",
            "Df Model:                           2                                         \n",
            "Covariance Type:            nonrobust                                         \n",
            "===============================================================================\n",
            "                  coef    std err          t      P>|t|      [0.025      0.975]\n",
            "-------------------------------------------------------------------------------\n",
            "const          -0.8253     21.044     -0.039      0.969     -43.093      41.443\n",
            "Retardation    23.4913      6.863      3.423      0.001       9.706      37.276\n",
            "Distrust       -7.0591      3.022     -2.336      0.024     -13.129      -0.990\n",
            "==============================================================================\n",
            "Omnibus:                        7.466   Durbin-Watson:                   1.903\n",
            "Prob(Omnibus):                  0.024   Jarque-Bera (JB):                6.886\n",
            "Skew:                           0.869   Prob(JB):                       0.0320\n",
            "Kurtosis:                       3.310   Cond. No.                         77.2\n",
            "==============================================================================\n",
            "\n",
            "Notes:\n",
            "[1] Standard Errors assume that the covariance matrix of the errors is correctly specified.\n"
          ]
        }
      ]
    },
    {
      "cell_type": "markdown",
      "source": [
        "Dentro de estos datos, destacamos el término R-squared, el cuál es el coeficiente de determinación que nos indica el porcentaje de variación en la que la variable dependiente puede ser explicada por las variables independientes. En este caso, tenemos un 20% de variación, lo que indica que ese porcentaje de la variable Illness puede ser explicada a partir de las otras dos.\n",
        "\n",
        "Para más información sobre esta api, https://www.statsmodels.org/stable/examples/notebooks/generated/ols.html#\n",
        "\n",
        "Gracias al uso de estos estadísticos, podemos ver por qué obtuvimos una correlación relativamente baja (0.48) entre los datos predichos por el modelo y los datos reales, puesto que tan solo un 20% del comportamiento de la variable dependiente está explicado por las independientes. Traducido al enunciado de nuestro problema, tan solo un 20% del índice de la enfermedad medida a los 6 meses del tratamiento se explica a partir de combinar el índice original de la enfermedad con el grado de desconfianza en el doctor asignado. Como ya se había comentado anteriormente, sería interesante poder realizar el estudio con una mayor cantidad de datos para una mejor verificación del resultado.\n",
        "\n",
        "Por todo esto y a la espera de revisión de un profesional de salud mental, concluimos que en los hospitales en los que se dé esta problemática, podemos tomar la decisión de reasignar a los pacientes un médico con el que tengan menos grado de desconfianza y esto puede suponer una leve mejoría en su evolución. Quedaría a elección de la dirección del hospital el tomar esta decisión, en función de si la reasignación de médicos supone un coste económico o de trabajo demasiado elevado o no, en comparación a los beneficios obtenidos en los pacientes."
      ],
      "metadata": {
        "id": "tppCLAlKLMcx"
      }
    }
  ]
}